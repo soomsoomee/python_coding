{
 "cells": [
  {
   "cell_type": "markdown",
   "metadata": {},
   "source": [
    "- 문제 링크\n",
    "- https://programmers.co.kr/learn/courses/30/lessons/49191"
   ]
  },
  {
   "cell_type": "markdown",
   "metadata": {},
   "source": [
    "## solution 1"
   ]
  },
  {
   "cell_type": "code",
   "execution_count": 1,
   "metadata": {},
   "outputs": [],
   "source": [
    "def solution(n, results):\n",
    "    win_dict, lose_dict = {}, {}\n",
    "    answer = 0\n",
    "    \n",
    "    for i in range(1, n+1):\n",
    "        # 확실히 이기는 선수를 저장\n",
    "        win_dict[i] = set()\n",
    "        # 확실히 지는 선수를 저장\n",
    "        lose_dict[i] = set()\n",
    "        \n",
    "    for res in results:\n",
    "        # add: 1개만 추가할 때\n",
    "        win_dict[res[0]].add(res[1])\n",
    "        lose_dict[res[1]].add(res[0])\n",
    "        \n",
    "    for i in range(1, n+1):\n",
    "        # update: 여러개 추가할 때 \n",
    "        # win_dict의 value에 있는 선수들은 전부 루저\n",
    "        # i에게 지면 lose_dict[i]에 있는 선수들에게도 진다.\n",
    "        for loser in win_dict[i]:\n",
    "            lose_dict[loser].update(lose_dict[i])\n",
    "        # lose_dict의 value에 있는 선수들은 전부 위너\n",
    "        # i에게 이기면 win_dict[i]에 있는 선수들에게도 이긴다.\n",
    "        for winner in lose_dict[i]:\n",
    "            win_dict[winner].update(win_dict[i])\n",
    "    \n",
    "    # 자기 자신을 제외한 모든 선수들과의 승패를 정확히 아는 경우 순위를 정확히 알 수 있다. \n",
    "    for i in range(1, n + 1):\n",
    "        if len(win_dict[i]) + len(lose_dict[i]) == n-1:\n",
    "            answer += 1\n",
    "    return answer"
   ]
  },
  {
   "cell_type": "markdown",
   "metadata": {},
   "source": [
    "## solution 2"
   ]
  },
  {
   "cell_type": "code",
   "execution_count": 2,
   "metadata": {},
   "outputs": [],
   "source": [
    "def solution(n, results):\n",
    "    # directed이므로 두 가지 버전의 그래프 그리기\n",
    "    G = [[0] * (n + 1) for _ in range(n+1)]\n",
    "    G_rev = [[0] * (n+1) for _ in range(n+1)]\n",
    "    \n",
    "    for result in results:\n",
    "        # 이기는 관계 그래프\n",
    "        G[result[0]][result[1]] = 1\n",
    "        # 지는 관계 그래프\n",
    "        G_rev[result[1]][result[0]] = 1\n",
    "        \n",
    "    answer = 0\n",
    "    \n",
    "    for i in range(1, n + 1):\n",
    "        visited = [0] * (n + 1)\n",
    "        visited[i] = 1\n",
    "        # 후입선출의 stack 만들기\n",
    "        # 깊이우선탐색(DFS)\n",
    "        # 자기 자신부터 시작하여 탐색\n",
    "        stack = [i]\n",
    "        stack_rev = [i]\n",
    "        \n",
    "        while stack:\n",
    "            for idx, val in enumerate(G[stack[-1]]):\n",
    "                if val and not visited[idx]:\n",
    "                    visited[idx] = 1\n",
    "                    stack.append(idx)\n",
    "                    break\n",
    "            else:\n",
    "                stack.pop()\n",
    "                \n",
    "        while stack_rev:\n",
    "            for idx, val in enumerate(G_rev[stack_rev[-1]]):\n",
    "                if val and not visited[idx]:\n",
    "                    visited[idx] = 1\n",
    "                    stack_rev.append(idx)\n",
    "                    break\n",
    "            else:\n",
    "                stack_rev.pop()\n",
    "                \n",
    "        if sum(visited) == n:\n",
    "            answer += 1\n",
    "    return answer"
   ]
  },
  {
   "cell_type": "markdown",
   "metadata": {},
   "source": [
    "## test case"
   ]
  },
  {
   "cell_type": "code",
   "execution_count": 3,
   "metadata": {},
   "outputs": [
    {
     "data": {
      "text/plain": [
       "2"
      ]
     },
     "execution_count": 3,
     "metadata": {},
     "output_type": "execute_result"
    }
   ],
   "source": [
    "n = 5\n",
    "results = [[4, 3], [4, 2], [3, 2], [1, 2], [2, 5]]\t\n",
    "solution(n, results)"
   ]
  }
 ],
 "metadata": {
  "kernelspec": {
   "display_name": "Python 3",
   "language": "python",
   "name": "python3"
  },
  "language_info": {
   "codemirror_mode": {
    "name": "ipython",
    "version": 3
   },
   "file_extension": ".py",
   "mimetype": "text/x-python",
   "name": "python",
   "nbconvert_exporter": "python",
   "pygments_lexer": "ipython3",
   "version": "3.7.7"
  }
 },
 "nbformat": 4,
 "nbformat_minor": 4
}
