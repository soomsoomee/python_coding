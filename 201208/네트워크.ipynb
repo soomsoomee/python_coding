{
 "cells": [
  {
   "cell_type": "markdown",
   "metadata": {},
   "source": [
    "- 문제 링크\n",
    "- https://programmers.co.kr/learn/courses/30/lessons/43162"
   ]
  },
  {
   "cell_type": "markdown",
   "metadata": {},
   "source": [
    "## solution 1"
   ]
  },
  {
   "cell_type": "code",
   "execution_count": 1,
   "metadata": {},
   "outputs": [],
   "source": [
    "def solution(n, computers):\n",
    "    answer = 0\n",
    "    # 이미 네트워크에 들어간 경우 1로 바꿔줄 것임. 처음에는 전부 0으로 세팅.\n",
    "    network = [0] * n\n",
    "    \n",
    "    for i in range(n):\n",
    "        if network[i] == 0:\n",
    "            visited = [0] * (n)\n",
    "            visited[i] = 1\n",
    "            # 후입선출의 stack 만들기\n",
    "            # 깊이우선탐색(DFS)\n",
    "            # 자기 자신부터 시작하여 탐색\n",
    "            stack = [i]\n",
    "\n",
    "            while stack:\n",
    "                for idx, val in enumerate(computers[stack[-1]]):\n",
    "                    if val and not visited[idx]:\n",
    "                        visited[idx] = 1\n",
    "                        stack.append(idx)\n",
    "                        break\n",
    "                else:\n",
    "                    stack.pop()\n",
    "            # 어떤 시작 노드에서 갈 수 있는 노드라면, 이미 하나의 네트워크로 더해진 것이기 때문에\n",
    "            # 이미 네트워크에 포함되었다고 보고 탐색을 새로 시작하지 않음\n",
    "            for i, v in enumerate(visited):\n",
    "                if v == 1:\n",
    "                    network[i] = 1\n",
    "            answer += 1      \n",
    "\n",
    "    return answer"
   ]
  },
  {
   "cell_type": "markdown",
   "metadata": {},
   "source": [
    "## test case"
   ]
  },
  {
   "cell_type": "code",
   "execution_count": 2,
   "metadata": {},
   "outputs": [],
   "source": [
    "n = 3\n",
    "computers = [[1, 1, 0], [1, 1, 0], [0, 0, 1]]"
   ]
  },
  {
   "cell_type": "code",
   "execution_count": 3,
   "metadata": {
    "scrolled": true
   },
   "outputs": [
    {
     "data": {
      "text/plain": [
       "2"
      ]
     },
     "execution_count": 3,
     "metadata": {},
     "output_type": "execute_result"
    }
   ],
   "source": [
    "solution(n, computers)"
   ]
  }
 ],
 "metadata": {
  "kernelspec": {
   "display_name": "Python 3",
   "language": "python",
   "name": "python3"
  },
  "language_info": {
   "codemirror_mode": {
    "name": "ipython",
    "version": 3
   },
   "file_extension": ".py",
   "mimetype": "text/x-python",
   "name": "python",
   "nbconvert_exporter": "python",
   "pygments_lexer": "ipython3",
   "version": "3.7.7"
  }
 },
 "nbformat": 4,
 "nbformat_minor": 4
}
