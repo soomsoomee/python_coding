{
 "cells": [
  {
   "cell_type": "markdown",
   "metadata": {},
   "source": [
    "- 문제 링크\n",
    "- https://programmers.co.kr/learn/courses/30/lessons/49189"
   ]
  },
  {
   "cell_type": "markdown",
   "metadata": {},
   "source": [
    "## solution 1"
   ]
  },
  {
   "cell_type": "code",
   "execution_count": 1,
   "metadata": {},
   "outputs": [],
   "source": [
    "def solution(n, edge):\n",
    "    # 노드 번호와 인덱스 위치를 맞춰주기 위해 그래프에 비어 있는 0번 인덱스도 포함시킴\n",
    "    G = [[] for _ in range(n+1)]\n",
    "    for v in edge:\n",
    "        # 엣지가 있는 경우 연결시켜서 그래프 그리기(undirected)\n",
    "        G[v[0]].append(v[1])\n",
    "        G[v[1]].append(v[0])\n",
    "    \n",
    "    distance = [-1] * (n + 1)\n",
    "    # 0번 인덱스는 사용하지 않음\n",
    "    distance[0] = 0\n",
    "    # 1번 노드와 1번 노드 사이의 거리는 0\n",
    "    distance[1] = 0\n",
    "    \n",
    "    # 선입선출의 queue 만들기\n",
    "    # 넓이 우선 탐색(BFS)\n",
    "    queue = [1]\n",
    "    \n",
    "    while queue:\n",
    "        # 앞에서부터 꺼내서 연결된 노드를 방문하기\n",
    "        for i in G[queue[0]]:\n",
    "            # 아직 방문하지 않은 노드인 경우\n",
    "            if distance[i] == -1:\n",
    "                # 이전 노드의 1까지와의 거리에 1을 더한다\n",
    "                distance[i] = distance[queue[0]] + 1\n",
    "                # 방문 기록에 추가\n",
    "                queue.append(i)\n",
    "        queue.pop(0)\n",
    "        \n",
    "    answer = distance.count(max(distance))\n",
    "    return answer"
   ]
  },
  {
   "cell_type": "markdown",
   "metadata": {},
   "source": [
    "## test case"
   ]
  },
  {
   "cell_type": "code",
   "execution_count": 2,
   "metadata": {},
   "outputs": [
    {
     "data": {
      "text/plain": [
       "3"
      ]
     },
     "execution_count": 2,
     "metadata": {},
     "output_type": "execute_result"
    }
   ],
   "source": [
    "n = 6\n",
    "vertex = [[3, 6], [4, 3], [3, 2], [1, 3], [1, 2], [2, 4], [5, 2]]\n",
    "solution(n, vertex)"
   ]
  }
 ],
 "metadata": {
  "kernelspec": {
   "display_name": "Python 3",
   "language": "python",
   "name": "python3"
  },
  "language_info": {
   "codemirror_mode": {
    "name": "ipython",
    "version": 3
   },
   "file_extension": ".py",
   "mimetype": "text/x-python",
   "name": "python",
   "nbconvert_exporter": "python",
   "pygments_lexer": "ipython3",
   "version": "3.7.7"
  }
 },
 "nbformat": 4,
 "nbformat_minor": 4
}
