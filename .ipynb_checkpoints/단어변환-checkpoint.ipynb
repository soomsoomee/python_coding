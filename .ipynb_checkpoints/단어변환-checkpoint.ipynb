{
 "cells": [
  {
   "cell_type": "markdown",
   "metadata": {},
   "source": [
    "- 문제 링크\n",
    "- https://programmers.co.kr/learn/courses/30/lessons/43163"
   ]
  },
  {
   "cell_type": "markdown",
   "metadata": {},
   "source": [
    "## solution 1"
   ]
  },
  {
   "cell_type": "code",
   "execution_count": 1,
   "metadata": {},
   "outputs": [],
   "source": [
    "def similar(str1, str2):\n",
    "    cnt = 0\n",
    "    for s1, s2 in zip(str1, str2):\n",
    "        if s1 == s2:\n",
    "            cnt += 1\n",
    "    if cnt == len(str1)-1:\n",
    "        return True\n",
    "    else:\n",
    "        return False\n",
    "    \n",
    "def solution(begin, target, words):\n",
    "    # 맨 앞에 시작 단어를 추가한다.\n",
    "    words.insert(0, begin)\n",
    "    # (단어 개수 X 단어 개수) 크기의 그래프 만들기\n",
    "    G = [[0] * len(words) for _ in range(len(words))]\n",
    "    # 단어를 쌍으로 살펴보면서 한 글자만 동일한 경우 연결한다.(undirected)\n",
    "    for i in range(0, len(words)-1):\n",
    "        for j in range(i+1, len(words)):\n",
    "            if similar(words[i], words[j]):\n",
    "                G[i][j], G[j][i] = 1, 1\n",
    "    submit = 0\n",
    "    answer = set()\n",
    "    if target in words:\n",
    "        # 가장 마지막에 도달해야하는 target의 인덱스\n",
    "        last = words.index(target)\n",
    "        # 후입선출의 stack 만들기\n",
    "        stack = [last]\n",
    "        # 방문한 노드를 저장\n",
    "        visited = [0] * len(words)\n",
    "        # target부터 시작하여, begin까지 가는데, 자기 자신은 이미 방문한 것으로 봄\n",
    "        visited[last] = 1\n",
    "        while stack:\n",
    "            # begin을 방문한 경우 목적을 달성했으므로 이동 거리를 answer에 추가\n",
    "            if 0 in stack:\n",
    "                answer.add(len(stack)-1)\n",
    "                break\n",
    "            # 깊이 우선 탐색\n",
    "            for idx, val in enumerate(G[stack[-1]]):\n",
    "                # stack의 제일 위에 있는 노드와 연결되어있고(0이 아니고) 방문하지 않은 경우 방문\n",
    "                if val and not visited[idx]:\n",
    "                    stack.append(idx)\n",
    "                    visited[idx] = 1\n",
    "                    break\n",
    "            # begin을 방문하지 않은 경우, 이전 노드에서 다시 경로 탐색해야하므로 최근 방문 노드 제거\n",
    "            # 갈 수 없는 경우에는  stack=[] 이 되어 submit=0 \n",
    "            else:\n",
    "                stack.pop(-1)\n",
    "                \n",
    "        # target에서 begin까지 가는 여러 방법 중 가장 짧은 길이를 리턴\n",
    "        if len(answer):\n",
    "            submit = min(answer)\n",
    "    return submit"
   ]
  },
  {
   "cell_type": "markdown",
   "metadata": {},
   "source": [
    "## solution 2"
   ]
  },
  {
   "cell_type": "code",
   "execution_count": 2,
   "metadata": {},
   "outputs": [],
   "source": [
    "from collections import defaultdict\n",
    "\n",
    "def BFS_path(graph, begin, target):\n",
    "    # 선입선출의 queue 만들기\n",
    "    bfs_queue = [(begin, [begin])]\n",
    "    result = []\n",
    "    \n",
    "    while bfs_queue:\n",
    "        node, path = bfs_queue.pop(0)\n",
    "        if node == target:\n",
    "            result.append(path)\n",
    "            break\n",
    "        else:\n",
    "            # 현재 노드에 연결된 노드 중 방문하지 않은 노드 방문\n",
    "            for v in set(graph[node]) - set(path):\n",
    "                bfs_queue.append((v, path + [v]))\n",
    "    return result\n",
    "\n",
    "# 딕셔너리 형태의 그래프 만들기\n",
    "def make_adj(words):\n",
    "    adj_list = defaultdict(list)\n",
    "\n",
    "    for i in range(len(words)): \n",
    "        for j in range(i + 1, len(words)):\n",
    "            cnt = 0\n",
    "            for k in range(len(words[0])):\n",
    "                if words[i][k] == words[j][k]:\n",
    "                    cnt += 1\n",
    "            if cnt == len(words[0]) - 1:\n",
    "                adj_list[words[i]].append(words[j])\n",
    "                adj_list[words[j]].append(words[i])\n",
    "\n",
    "    return adj_list\n",
    "\n",
    "\n",
    "def solution(begin, target, words):\n",
    "    if target not in words:\n",
    "        return 0\n",
    "    else:\n",
    "        # 시작점도 추가해서 그래프 만들기\n",
    "        words.append(begin) \n",
    "        adj_list = make_adj(words)\n",
    "        answer = BFS_path(adj_list, begin, target)\n",
    "\n",
    "        if len(answer) == 0:\n",
    "            return 0\n",
    "        else:\n",
    "            return len(answer[0]) -1"
   ]
  },
  {
   "cell_type": "markdown",
   "metadata": {},
   "source": [
    "## test case"
   ]
  },
  {
   "cell_type": "code",
   "execution_count": 3,
   "metadata": {},
   "outputs": [
    {
     "data": {
      "text/plain": [
       "4"
      ]
     },
     "execution_count": 3,
     "metadata": {},
     "output_type": "execute_result"
    }
   ],
   "source": [
    "begin = 'hit'\n",
    "target = 'cog'\n",
    "words = ['hot', 'dot', 'dog', 'lot', 'log', 'cog']\n",
    "solution(begin, target, words)"
   ]
  }
 ],
 "metadata": {
  "kernelspec": {
   "display_name": "Python 3",
   "language": "python",
   "name": "python3"
  },
  "language_info": {
   "codemirror_mode": {
    "name": "ipython",
    "version": 3
   },
   "file_extension": ".py",
   "mimetype": "text/x-python",
   "name": "python",
   "nbconvert_exporter": "python",
   "pygments_lexer": "ipython3",
   "version": "3.7.7"
  }
 },
 "nbformat": 4,
 "nbformat_minor": 4
}
