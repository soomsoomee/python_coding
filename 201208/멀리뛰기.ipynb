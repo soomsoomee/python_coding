{
 "cells": [
  {
   "cell_type": "markdown",
   "metadata": {},
   "source": [
    "- 문제 링크\n",
    "- https://programmers.co.kr/learn/courses/30/lessons/12914"
   ]
  },
  {
   "cell_type": "markdown",
   "metadata": {},
   "source": [
    "## solution 1"
   ]
  },
  {
   "cell_type": "code",
   "execution_count": 1,
   "metadata": {},
   "outputs": [],
   "source": [
    "# n번쨰 까지 가는 방법: n-2번째가고 2칸가기 + n-1번째까지 가고 1칸가기\n",
    "def solution(n):\n",
    "    log = [0] * (n + 1)\n",
    "    log[1] = 1\n",
    "    if n >=2:\n",
    "        log[2] = 2\n",
    "    if n >= 3:\n",
    "        for i in range(3, n+1):\n",
    "            log[i] = (log[i-2] + log[i-1]) % 1234567\n",
    "    answer = int(log[n])\n",
    "        \n",
    "    return answer"
   ]
  },
  {
   "cell_type": "code",
   "execution_count": 2,
   "metadata": {},
   "outputs": [
    {
     "data": {
      "text/plain": [
       "1"
      ]
     },
     "execution_count": 2,
     "metadata": {},
     "output_type": "execute_result"
    }
   ],
   "source": [
    "solution(1)"
   ]
  }
 ],
 "metadata": {
  "kernelspec": {
   "display_name": "Python 3",
   "language": "python",
   "name": "python3"
  },
  "language_info": {
   "codemirror_mode": {
    "name": "ipython",
    "version": 3
   },
   "file_extension": ".py",
   "mimetype": "text/x-python",
   "name": "python",
   "nbconvert_exporter": "python",
   "pygments_lexer": "ipython3",
   "version": "3.7.7"
  }
 },
 "nbformat": 4,
 "nbformat_minor": 4
}
